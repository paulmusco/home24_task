{
 "cells": [
  {
   "cell_type": "code",
   "execution_count": 1,
   "id": "a9dcd965",
   "metadata": {},
   "outputs": [],
   "source": [
    "import pandas as pd\n",
    "import numpy as np\n",
    "import datetime\n",
    "\n",
    "pd.set_option('display.max_columns', None)"
   ]
  },
  {
   "cell_type": "code",
   "execution_count": 2,
   "id": "cb7ba66e",
   "metadata": {},
   "outputs": [],
   "source": [
    "# Import original data files\n",
    "suppliers = pd.read_csv(\"Supplier_Name_&_ID_data.csv\", engine='python')\n",
    "sales = pd.read_csv(\"Raw_data.csv\", engine='python', thousands=',')"
   ]
  },
  {
   "cell_type": "code",
   "execution_count": 3,
   "id": "184d6173",
   "metadata": {},
   "outputs": [
    {
     "data": {
      "text/html": [
       "<div>\n",
       "<style scoped>\n",
       "    .dataframe tbody tr th:only-of-type {\n",
       "        vertical-align: middle;\n",
       "    }\n",
       "\n",
       "    .dataframe tbody tr th {\n",
       "        vertical-align: top;\n",
       "    }\n",
       "\n",
       "    .dataframe thead th {\n",
       "        text-align: right;\n",
       "    }\n",
       "</style>\n",
       "<table border=\"1\" class=\"dataframe\">\n",
       "  <thead>\n",
       "    <tr style=\"text-align: right;\">\n",
       "      <th></th>\n",
       "      <th>Item Supplier Regular</th>\n",
       "      <th>Item Supplier Regular id</th>\n",
       "    </tr>\n",
       "  </thead>\n",
       "  <tbody>\n",
       "    <tr>\n",
       "      <th>0</th>\n",
       "      <td>2b deko GmbH</td>\n",
       "      <td>!100105</td>\n",
       "    </tr>\n",
       "    <tr>\n",
       "      <th>1</th>\n",
       "      <td>2M-sitandsleep GmbH</td>\n",
       "      <td>!101167</td>\n",
       "    </tr>\n",
       "    <tr>\n",
       "      <th>2</th>\n",
       "      <td>3s Frankenmöbel Vertriebs GmbH</td>\n",
       "      <td>!100148</td>\n",
       "    </tr>\n",
       "    <tr>\n",
       "      <th>3</th>\n",
       "      <td>„Wolno??” Meblarska Sp. z o.o.</td>\n",
       "      <td>!100986</td>\n",
       "    </tr>\n",
       "    <tr>\n",
       "      <th>4</th>\n",
       "      <td>(Werk 82125) Actona Company A/S</td>\n",
       "      <td>!100002</td>\n",
       "    </tr>\n",
       "  </tbody>\n",
       "</table>\n",
       "</div>"
      ],
      "text/plain": [
       "             Item Supplier Regular   Item Supplier Regular id \n",
       "0                     2b deko GmbH                     !100105\n",
       "1              2M-sitandsleep GmbH                     !101167\n",
       "2   3s Frankenmöbel Vertriebs GmbH                     !100148\n",
       "3   „Wolno??” Meblarska Sp. z o.o.                     !100986\n",
       "4  (Werk 82125) Actona Company A/S                     !100002"
      ]
     },
     "execution_count": 3,
     "metadata": {},
     "output_type": "execute_result"
    }
   ],
   "source": [
    "suppliers.head()"
   ]
  },
  {
   "cell_type": "code",
   "execution_count": 4,
   "id": "ce090af1",
   "metadata": {},
   "outputs": [
    {
     "data": {
      "text/html": [
       "<div>\n",
       "<style scoped>\n",
       "    .dataframe tbody tr th:only-of-type {\n",
       "        vertical-align: middle;\n",
       "    }\n",
       "\n",
       "    .dataframe tbody tr th {\n",
       "        vertical-align: top;\n",
       "    }\n",
       "\n",
       "    .dataframe thead th {\n",
       "        text-align: right;\n",
       "    }\n",
       "</style>\n",
       "<table border=\"1\" class=\"dataframe\">\n",
       "  <thead>\n",
       "    <tr style=\"text-align: right;\">\n",
       "      <th></th>\n",
       "      <th>Shop Country</th>\n",
       "      <th>Year of Order Line Creation Date</th>\n",
       "      <th>Month of Order Line Creation Date</th>\n",
       "      <th>Item Inventory Flag</th>\n",
       "      <th>Item Supplier Regular Id</th>\n",
       "      <th>Actual Shop NOV (€)</th>\n",
       "      <th>Quantity Sold (#)</th>\n",
       "      <th>Simulated Total Net Sales (€)</th>\n",
       "      <th>Simulated Total Gross Margin (€)</th>\n",
       "    </tr>\n",
       "  </thead>\n",
       "  <tbody>\n",
       "    <tr>\n",
       "      <th>0</th>\n",
       "      <td>Austria</td>\n",
       "      <td>2020</td>\n",
       "      <td>January</td>\n",
       "      <td>dropship</td>\n",
       "      <td>100001</td>\n",
       "      <td>1595</td>\n",
       "      <td>14</td>\n",
       "      <td>1393</td>\n",
       "      <td>641</td>\n",
       "    </tr>\n",
       "    <tr>\n",
       "      <th>1</th>\n",
       "      <td>Austria</td>\n",
       "      <td>2020</td>\n",
       "      <td>January</td>\n",
       "      <td>dropship</td>\n",
       "      <td>100014</td>\n",
       "      <td>150</td>\n",
       "      <td>2</td>\n",
       "      <td>125</td>\n",
       "      <td>63</td>\n",
       "    </tr>\n",
       "    <tr>\n",
       "      <th>2</th>\n",
       "      <td>Austria</td>\n",
       "      <td>2020</td>\n",
       "      <td>January</td>\n",
       "      <td>dropship</td>\n",
       "      <td>100016</td>\n",
       "      <td>279</td>\n",
       "      <td>4</td>\n",
       "      <td>236</td>\n",
       "      <td>139</td>\n",
       "    </tr>\n",
       "    <tr>\n",
       "      <th>3</th>\n",
       "      <td>Austria</td>\n",
       "      <td>2020</td>\n",
       "      <td>January</td>\n",
       "      <td>dropship</td>\n",
       "      <td>100017</td>\n",
       "      <td>254</td>\n",
       "      <td>3</td>\n",
       "      <td>201</td>\n",
       "      <td>85</td>\n",
       "    </tr>\n",
       "    <tr>\n",
       "      <th>4</th>\n",
       "      <td>Austria</td>\n",
       "      <td>2020</td>\n",
       "      <td>January</td>\n",
       "      <td>dropship</td>\n",
       "      <td>100023</td>\n",
       "      <td>1804</td>\n",
       "      <td>41</td>\n",
       "      <td>1483</td>\n",
       "      <td>568</td>\n",
       "    </tr>\n",
       "  </tbody>\n",
       "</table>\n",
       "</div>"
      ],
      "text/plain": [
       "  Shop Country  Year of Order Line Creation Date  \\\n",
       "0      Austria                              2020   \n",
       "1      Austria                              2020   \n",
       "2      Austria                              2020   \n",
       "3      Austria                              2020   \n",
       "4      Austria                              2020   \n",
       "\n",
       "  Month of Order Line Creation Date Item Inventory Flag  \\\n",
       "0                           January            dropship   \n",
       "1                           January            dropship   \n",
       "2                           January            dropship   \n",
       "3                           January            dropship   \n",
       "4                           January            dropship   \n",
       "\n",
       "   Item Supplier Regular Id  Actual Shop NOV (€)  Quantity Sold (#)  \\\n",
       "0                    100001                 1595                 14   \n",
       "1                    100014                  150                  2   \n",
       "2                    100016                  279                  4   \n",
       "3                    100017                  254                  3   \n",
       "4                    100023                 1804                 41   \n",
       "\n",
       "   Simulated Total Net Sales (€)  Simulated Total Gross Margin (€)  \n",
       "0                           1393                               641  \n",
       "1                            125                                63  \n",
       "2                            236                               139  \n",
       "3                            201                                85  \n",
       "4                           1483                               568  "
      ]
     },
     "execution_count": 4,
     "metadata": {},
     "output_type": "execute_result"
    }
   ],
   "source": [
    "sales.head()"
   ]
  },
  {
   "cell_type": "code",
   "execution_count": 5,
   "id": "5d1d18cb",
   "metadata": {},
   "outputs": [],
   "source": [
    "# Rename columns\n",
    "suppliers.columns=['supplier_name', 'supplier_id']\n",
    "sales.columns=['order_country', 'order_year', 'order_month', 'item_inventory_flag', 'supplier_id', 'actual_sales_value', \n",
    "               'actual_quantity_sold', 'simulated_sales_value', 'simulated_gross_margin']"
   ]
  },
  {
   "cell_type": "code",
   "execution_count": 6,
   "id": "03fb4b7e",
   "metadata": {},
   "outputs": [],
   "source": [
    "# Clean 'supplier_id' column (remove leading exclamation marks)\n",
    "suppliers['supplier_id'] = suppliers['supplier_id'].str.replace('!', '')"
   ]
  },
  {
   "cell_type": "code",
   "execution_count": 7,
   "id": "fabc1974",
   "metadata": {},
   "outputs": [
    {
     "data": {
      "text/html": [
       "<div>\n",
       "<style scoped>\n",
       "    .dataframe tbody tr th:only-of-type {\n",
       "        vertical-align: middle;\n",
       "    }\n",
       "\n",
       "    .dataframe tbody tr th {\n",
       "        vertical-align: top;\n",
       "    }\n",
       "\n",
       "    .dataframe thead th {\n",
       "        text-align: right;\n",
       "    }\n",
       "</style>\n",
       "<table border=\"1\" class=\"dataframe\">\n",
       "  <thead>\n",
       "    <tr style=\"text-align: right;\">\n",
       "      <th></th>\n",
       "      <th>supplier_name</th>\n",
       "      <th>supplier_id</th>\n",
       "    </tr>\n",
       "  </thead>\n",
       "  <tbody>\n",
       "    <tr>\n",
       "      <th>0</th>\n",
       "      <td>2b deko GmbH</td>\n",
       "      <td>100105</td>\n",
       "    </tr>\n",
       "    <tr>\n",
       "      <th>1</th>\n",
       "      <td>2M-sitandsleep GmbH</td>\n",
       "      <td>101167</td>\n",
       "    </tr>\n",
       "    <tr>\n",
       "      <th>2</th>\n",
       "      <td>3s Frankenmöbel Vertriebs GmbH</td>\n",
       "      <td>100148</td>\n",
       "    </tr>\n",
       "    <tr>\n",
       "      <th>3</th>\n",
       "      <td>„Wolno??” Meblarska Sp. z o.o.</td>\n",
       "      <td>100986</td>\n",
       "    </tr>\n",
       "    <tr>\n",
       "      <th>4</th>\n",
       "      <td>(Werk 82125) Actona Company A/S</td>\n",
       "      <td>100002</td>\n",
       "    </tr>\n",
       "  </tbody>\n",
       "</table>\n",
       "</div>"
      ],
      "text/plain": [
       "                     supplier_name supplier_id\n",
       "0                     2b deko GmbH      100105\n",
       "1              2M-sitandsleep GmbH      101167\n",
       "2   3s Frankenmöbel Vertriebs GmbH      100148\n",
       "3   „Wolno??” Meblarska Sp. z o.o.      100986\n",
       "4  (Werk 82125) Actona Company A/S      100002"
      ]
     },
     "execution_count": 7,
     "metadata": {},
     "output_type": "execute_result"
    }
   ],
   "source": [
    "suppliers.head()"
   ]
  },
  {
   "cell_type": "code",
   "execution_count": 8,
   "id": "77e427a9",
   "metadata": {},
   "outputs": [
    {
     "data": {
      "text/html": [
       "<div>\n",
       "<style scoped>\n",
       "    .dataframe tbody tr th:only-of-type {\n",
       "        vertical-align: middle;\n",
       "    }\n",
       "\n",
       "    .dataframe tbody tr th {\n",
       "        vertical-align: top;\n",
       "    }\n",
       "\n",
       "    .dataframe thead th {\n",
       "        text-align: right;\n",
       "    }\n",
       "</style>\n",
       "<table border=\"1\" class=\"dataframe\">\n",
       "  <thead>\n",
       "    <tr style=\"text-align: right;\">\n",
       "      <th></th>\n",
       "      <th>order_country</th>\n",
       "      <th>order_year</th>\n",
       "      <th>order_month</th>\n",
       "      <th>item_inventory_flag</th>\n",
       "      <th>supplier_id</th>\n",
       "      <th>actual_sales_value</th>\n",
       "      <th>actual_quantity_sold</th>\n",
       "      <th>simulated_sales_value</th>\n",
       "      <th>simulated_gross_margin</th>\n",
       "    </tr>\n",
       "  </thead>\n",
       "  <tbody>\n",
       "    <tr>\n",
       "      <th>0</th>\n",
       "      <td>Austria</td>\n",
       "      <td>2020</td>\n",
       "      <td>January</td>\n",
       "      <td>dropship</td>\n",
       "      <td>100001</td>\n",
       "      <td>1595</td>\n",
       "      <td>14</td>\n",
       "      <td>1393</td>\n",
       "      <td>641</td>\n",
       "    </tr>\n",
       "    <tr>\n",
       "      <th>1</th>\n",
       "      <td>Austria</td>\n",
       "      <td>2020</td>\n",
       "      <td>January</td>\n",
       "      <td>dropship</td>\n",
       "      <td>100014</td>\n",
       "      <td>150</td>\n",
       "      <td>2</td>\n",
       "      <td>125</td>\n",
       "      <td>63</td>\n",
       "    </tr>\n",
       "    <tr>\n",
       "      <th>2</th>\n",
       "      <td>Austria</td>\n",
       "      <td>2020</td>\n",
       "      <td>January</td>\n",
       "      <td>dropship</td>\n",
       "      <td>100016</td>\n",
       "      <td>279</td>\n",
       "      <td>4</td>\n",
       "      <td>236</td>\n",
       "      <td>139</td>\n",
       "    </tr>\n",
       "    <tr>\n",
       "      <th>3</th>\n",
       "      <td>Austria</td>\n",
       "      <td>2020</td>\n",
       "      <td>January</td>\n",
       "      <td>dropship</td>\n",
       "      <td>100017</td>\n",
       "      <td>254</td>\n",
       "      <td>3</td>\n",
       "      <td>201</td>\n",
       "      <td>85</td>\n",
       "    </tr>\n",
       "    <tr>\n",
       "      <th>4</th>\n",
       "      <td>Austria</td>\n",
       "      <td>2020</td>\n",
       "      <td>January</td>\n",
       "      <td>dropship</td>\n",
       "      <td>100023</td>\n",
       "      <td>1804</td>\n",
       "      <td>41</td>\n",
       "      <td>1483</td>\n",
       "      <td>568</td>\n",
       "    </tr>\n",
       "  </tbody>\n",
       "</table>\n",
       "</div>"
      ],
      "text/plain": [
       "  order_country  order_year order_month item_inventory_flag  supplier_id  \\\n",
       "0       Austria        2020     January            dropship       100001   \n",
       "1       Austria        2020     January            dropship       100014   \n",
       "2       Austria        2020     January            dropship       100016   \n",
       "3       Austria        2020     January            dropship       100017   \n",
       "4       Austria        2020     January            dropship       100023   \n",
       "\n",
       "   actual_sales_value  actual_quantity_sold  simulated_sales_value  \\\n",
       "0                1595                    14                   1393   \n",
       "1                 150                     2                    125   \n",
       "2                 279                     4                    236   \n",
       "3                 254                     3                    201   \n",
       "4                1804                    41                   1483   \n",
       "\n",
       "   simulated_gross_margin  \n",
       "0                     641  \n",
       "1                      63  \n",
       "2                     139  \n",
       "3                      85  \n",
       "4                     568  "
      ]
     },
     "execution_count": 8,
     "metadata": {},
     "output_type": "execute_result"
    }
   ],
   "source": [
    "sales.head()"
   ]
  },
  {
   "cell_type": "code",
   "execution_count": 9,
   "id": "346cc6e9",
   "metadata": {},
   "outputs": [
    {
     "data": {
      "text/plain": [
       "supplier_name    object\n",
       "supplier_id      object\n",
       "dtype: object"
      ]
     },
     "execution_count": 9,
     "metadata": {},
     "output_type": "execute_result"
    }
   ],
   "source": [
    "# Check data types\n",
    "suppliers.dtypes"
   ]
  },
  {
   "cell_type": "code",
   "execution_count": 10,
   "id": "a8e1cdba",
   "metadata": {},
   "outputs": [
    {
     "data": {
      "text/plain": [
       "order_country             object\n",
       "order_year                 int64\n",
       "order_month               object\n",
       "item_inventory_flag       object\n",
       "supplier_id                int64\n",
       "actual_sales_value         int64\n",
       "actual_quantity_sold       int64\n",
       "simulated_sales_value      int64\n",
       "simulated_gross_margin     int64\n",
       "dtype: object"
      ]
     },
     "execution_count": 10,
     "metadata": {},
     "output_type": "execute_result"
    }
   ],
   "source": [
    "sales.dtypes"
   ]
  },
  {
   "cell_type": "code",
   "execution_count": 11,
   "id": "8cac3c96",
   "metadata": {},
   "outputs": [],
   "source": [
    "sales['supplier_id'] = sales['supplier_id'].astype(object)"
   ]
  },
  {
   "cell_type": "code",
   "execution_count": 12,
   "id": "7af132bf",
   "metadata": {},
   "outputs": [
    {
     "data": {
      "text/plain": [
       "order_country             object\n",
       "order_year                 int64\n",
       "order_month               object\n",
       "item_inventory_flag       object\n",
       "supplier_id               object\n",
       "actual_sales_value         int64\n",
       "actual_quantity_sold       int64\n",
       "simulated_sales_value      int64\n",
       "simulated_gross_margin     int64\n",
       "dtype: object"
      ]
     },
     "execution_count": 12,
     "metadata": {},
     "output_type": "execute_result"
    }
   ],
   "source": [
    "sales.dtypes"
   ]
  },
  {
   "cell_type": "markdown",
   "id": "16a006b6",
   "metadata": {},
   "source": [
    "# Calculate 'Average selling price'"
   ]
  },
  {
   "cell_type": "code",
   "execution_count": 13,
   "id": "cab59b39",
   "metadata": {},
   "outputs": [],
   "source": [
    "sales['average_selling_price'] = sales['actual_sales_value']/sales['actual_quantity_sold']"
   ]
  },
  {
   "cell_type": "code",
   "execution_count": 14,
   "id": "ac0ede6d",
   "metadata": {},
   "outputs": [
    {
     "data": {
      "text/html": [
       "<div>\n",
       "<style scoped>\n",
       "    .dataframe tbody tr th:only-of-type {\n",
       "        vertical-align: middle;\n",
       "    }\n",
       "\n",
       "    .dataframe tbody tr th {\n",
       "        vertical-align: top;\n",
       "    }\n",
       "\n",
       "    .dataframe thead th {\n",
       "        text-align: right;\n",
       "    }\n",
       "</style>\n",
       "<table border=\"1\" class=\"dataframe\">\n",
       "  <thead>\n",
       "    <tr style=\"text-align: right;\">\n",
       "      <th></th>\n",
       "      <th>order_country</th>\n",
       "      <th>order_year</th>\n",
       "      <th>order_month</th>\n",
       "      <th>item_inventory_flag</th>\n",
       "      <th>supplier_id</th>\n",
       "      <th>actual_sales_value</th>\n",
       "      <th>actual_quantity_sold</th>\n",
       "      <th>simulated_sales_value</th>\n",
       "      <th>simulated_gross_margin</th>\n",
       "      <th>average_selling_price</th>\n",
       "    </tr>\n",
       "  </thead>\n",
       "  <tbody>\n",
       "    <tr>\n",
       "      <th>0</th>\n",
       "      <td>Austria</td>\n",
       "      <td>2020</td>\n",
       "      <td>January</td>\n",
       "      <td>dropship</td>\n",
       "      <td>100001</td>\n",
       "      <td>1595</td>\n",
       "      <td>14</td>\n",
       "      <td>1393</td>\n",
       "      <td>641</td>\n",
       "      <td>113.928571</td>\n",
       "    </tr>\n",
       "    <tr>\n",
       "      <th>1</th>\n",
       "      <td>Austria</td>\n",
       "      <td>2020</td>\n",
       "      <td>January</td>\n",
       "      <td>dropship</td>\n",
       "      <td>100014</td>\n",
       "      <td>150</td>\n",
       "      <td>2</td>\n",
       "      <td>125</td>\n",
       "      <td>63</td>\n",
       "      <td>75.000000</td>\n",
       "    </tr>\n",
       "    <tr>\n",
       "      <th>2</th>\n",
       "      <td>Austria</td>\n",
       "      <td>2020</td>\n",
       "      <td>January</td>\n",
       "      <td>dropship</td>\n",
       "      <td>100016</td>\n",
       "      <td>279</td>\n",
       "      <td>4</td>\n",
       "      <td>236</td>\n",
       "      <td>139</td>\n",
       "      <td>69.750000</td>\n",
       "    </tr>\n",
       "    <tr>\n",
       "      <th>3</th>\n",
       "      <td>Austria</td>\n",
       "      <td>2020</td>\n",
       "      <td>January</td>\n",
       "      <td>dropship</td>\n",
       "      <td>100017</td>\n",
       "      <td>254</td>\n",
       "      <td>3</td>\n",
       "      <td>201</td>\n",
       "      <td>85</td>\n",
       "      <td>84.666667</td>\n",
       "    </tr>\n",
       "    <tr>\n",
       "      <th>4</th>\n",
       "      <td>Austria</td>\n",
       "      <td>2020</td>\n",
       "      <td>January</td>\n",
       "      <td>dropship</td>\n",
       "      <td>100023</td>\n",
       "      <td>1804</td>\n",
       "      <td>41</td>\n",
       "      <td>1483</td>\n",
       "      <td>568</td>\n",
       "      <td>44.000000</td>\n",
       "    </tr>\n",
       "  </tbody>\n",
       "</table>\n",
       "</div>"
      ],
      "text/plain": [
       "  order_country  order_year order_month item_inventory_flag supplier_id  \\\n",
       "0       Austria        2020     January            dropship      100001   \n",
       "1       Austria        2020     January            dropship      100014   \n",
       "2       Austria        2020     January            dropship      100016   \n",
       "3       Austria        2020     January            dropship      100017   \n",
       "4       Austria        2020     January            dropship      100023   \n",
       "\n",
       "   actual_sales_value  actual_quantity_sold  simulated_sales_value  \\\n",
       "0                1595                    14                   1393   \n",
       "1                 150                     2                    125   \n",
       "2                 279                     4                    236   \n",
       "3                 254                     3                    201   \n",
       "4                1804                    41                   1483   \n",
       "\n",
       "   simulated_gross_margin  average_selling_price  \n",
       "0                     641             113.928571  \n",
       "1                      63              75.000000  \n",
       "2                     139              69.750000  \n",
       "3                      85              84.666667  \n",
       "4                     568              44.000000  "
      ]
     },
     "execution_count": 14,
     "metadata": {},
     "output_type": "execute_result"
    }
   ],
   "source": [
    "sales.head()"
   ]
  },
  {
   "cell_type": "code",
   "execution_count": 15,
   "id": "96b457ca",
   "metadata": {},
   "outputs": [
    {
     "name": "stdout",
     "output_type": "stream",
     "text": [
      "The Average Selling Price is  21110.48 €\n"
     ]
    }
   ],
   "source": [
    "print('The Average Selling Price is ', \n",
    "      round(sales['actual_sales_value'].sum()/sales['actual_quantity_sold'].sum()*100, 2), '€')"
   ]
  },
  {
   "cell_type": "code",
   "execution_count": 16,
   "id": "662997b5",
   "metadata": {},
   "outputs": [
    {
     "data": {
      "text/plain": [
       "nan"
      ]
     },
     "execution_count": 16,
     "metadata": {},
     "output_type": "execute_result"
    }
   ],
   "source": [
    "# Double check that the weighted average is the same\n",
    "np.average(sales['average_selling_price'], weights = sales['actual_quantity_sold'])"
   ]
  },
  {
   "cell_type": "code",
   "execution_count": 17,
   "id": "970226a6",
   "metadata": {},
   "outputs": [
    {
     "data": {
      "text/plain": [
       "41499"
      ]
     },
     "execution_count": 17,
     "metadata": {},
     "output_type": "execute_result"
    }
   ],
   "source": [
    "len(sales)"
   ]
  },
  {
   "cell_type": "code",
   "execution_count": 18,
   "id": "96680f81",
   "metadata": {},
   "outputs": [
    {
     "data": {
      "text/plain": [
       "0.0"
      ]
     },
     "execution_count": 18,
     "metadata": {},
     "output_type": "execute_result"
    }
   ],
   "source": [
    "sales['actual_sales_value'].isna().sum() * 100 / len(sales)"
   ]
  },
  {
   "cell_type": "code",
   "execution_count": 19,
   "id": "d60f9f0f",
   "metadata": {},
   "outputs": [
    {
     "data": {
      "text/plain": [
       "0.0"
      ]
     },
     "execution_count": 19,
     "metadata": {},
     "output_type": "execute_result"
    }
   ],
   "source": [
    "sales['actual_quantity_sold'].isna().sum() * 100 / len(sales)"
   ]
  },
  {
   "cell_type": "code",
   "execution_count": 20,
   "id": "291dc848",
   "metadata": {},
   "outputs": [
    {
     "data": {
      "text/plain": [
       "22.83669486011711"
      ]
     },
     "execution_count": 20,
     "metadata": {},
     "output_type": "execute_result"
    }
   ],
   "source": [
    "sales['average_selling_price'].isna().sum() * 100 / len(sales)"
   ]
  },
  {
   "cell_type": "code",
   "execution_count": 21,
   "id": "c2acf201",
   "metadata": {},
   "outputs": [
    {
     "data": {
      "text/plain": [
       "9481"
      ]
     },
     "execution_count": 21,
     "metadata": {},
     "output_type": "execute_result"
    }
   ],
   "source": [
    "(sales['actual_sales_value'] == 0).sum()"
   ]
  },
  {
   "cell_type": "code",
   "execution_count": 22,
   "id": "db5708b2",
   "metadata": {},
   "outputs": [
    {
     "data": {
      "text/plain": [
       "9477"
      ]
     },
     "execution_count": 22,
     "metadata": {},
     "output_type": "execute_result"
    }
   ],
   "source": [
    "(sales['actual_quantity_sold'] == 0).sum()"
   ]
  },
  {
   "cell_type": "code",
   "execution_count": 23,
   "id": "6260c8a4",
   "metadata": {},
   "outputs": [],
   "source": [
    "sales['average_selling_price'] = sales['average_selling_price'].fillna(0)"
   ]
  },
  {
   "cell_type": "code",
   "execution_count": 24,
   "id": "46dd0c49",
   "metadata": {},
   "outputs": [
    {
     "data": {
      "text/plain": [
       "0.0"
      ]
     },
     "execution_count": 24,
     "metadata": {},
     "output_type": "execute_result"
    }
   ],
   "source": [
    "sales['average_selling_price'].isna().sum() * 100 / len(sales)"
   ]
  },
  {
   "cell_type": "code",
   "execution_count": 25,
   "id": "f1053109",
   "metadata": {},
   "outputs": [
    {
     "data": {
      "text/plain": [
       "211.10484988937742"
      ]
     },
     "execution_count": 25,
     "metadata": {},
     "output_type": "execute_result"
    }
   ],
   "source": [
    "np.average(sales['average_selling_price'], weights = sales['actual_quantity_sold'])"
   ]
  },
  {
   "cell_type": "markdown",
   "id": "341ccb36",
   "metadata": {},
   "source": [
    "# Calculate 'Gross margin rate %'"
   ]
  },
  {
   "cell_type": "code",
   "execution_count": 26,
   "id": "d8f3a2bd",
   "metadata": {},
   "outputs": [],
   "source": [
    "sales['gross_margin_rate_percentage'] = (sales['simulated_gross_margin']/sales['simulated_sales_value'])*100"
   ]
  },
  {
   "cell_type": "code",
   "execution_count": 27,
   "id": "82578432",
   "metadata": {},
   "outputs": [
    {
     "data": {
      "text/html": [
       "<div>\n",
       "<style scoped>\n",
       "    .dataframe tbody tr th:only-of-type {\n",
       "        vertical-align: middle;\n",
       "    }\n",
       "\n",
       "    .dataframe tbody tr th {\n",
       "        vertical-align: top;\n",
       "    }\n",
       "\n",
       "    .dataframe thead th {\n",
       "        text-align: right;\n",
       "    }\n",
       "</style>\n",
       "<table border=\"1\" class=\"dataframe\">\n",
       "  <thead>\n",
       "    <tr style=\"text-align: right;\">\n",
       "      <th></th>\n",
       "      <th>order_country</th>\n",
       "      <th>order_year</th>\n",
       "      <th>order_month</th>\n",
       "      <th>item_inventory_flag</th>\n",
       "      <th>supplier_id</th>\n",
       "      <th>actual_sales_value</th>\n",
       "      <th>actual_quantity_sold</th>\n",
       "      <th>simulated_sales_value</th>\n",
       "      <th>simulated_gross_margin</th>\n",
       "      <th>average_selling_price</th>\n",
       "      <th>gross_margin_rate_percentage</th>\n",
       "    </tr>\n",
       "  </thead>\n",
       "  <tbody>\n",
       "    <tr>\n",
       "      <th>0</th>\n",
       "      <td>Austria</td>\n",
       "      <td>2020</td>\n",
       "      <td>January</td>\n",
       "      <td>dropship</td>\n",
       "      <td>100001</td>\n",
       "      <td>1595</td>\n",
       "      <td>14</td>\n",
       "      <td>1393</td>\n",
       "      <td>641</td>\n",
       "      <td>113.928571</td>\n",
       "      <td>46.015793</td>\n",
       "    </tr>\n",
       "    <tr>\n",
       "      <th>1</th>\n",
       "      <td>Austria</td>\n",
       "      <td>2020</td>\n",
       "      <td>January</td>\n",
       "      <td>dropship</td>\n",
       "      <td>100014</td>\n",
       "      <td>150</td>\n",
       "      <td>2</td>\n",
       "      <td>125</td>\n",
       "      <td>63</td>\n",
       "      <td>75.000000</td>\n",
       "      <td>50.400000</td>\n",
       "    </tr>\n",
       "    <tr>\n",
       "      <th>2</th>\n",
       "      <td>Austria</td>\n",
       "      <td>2020</td>\n",
       "      <td>January</td>\n",
       "      <td>dropship</td>\n",
       "      <td>100016</td>\n",
       "      <td>279</td>\n",
       "      <td>4</td>\n",
       "      <td>236</td>\n",
       "      <td>139</td>\n",
       "      <td>69.750000</td>\n",
       "      <td>58.898305</td>\n",
       "    </tr>\n",
       "    <tr>\n",
       "      <th>3</th>\n",
       "      <td>Austria</td>\n",
       "      <td>2020</td>\n",
       "      <td>January</td>\n",
       "      <td>dropship</td>\n",
       "      <td>100017</td>\n",
       "      <td>254</td>\n",
       "      <td>3</td>\n",
       "      <td>201</td>\n",
       "      <td>85</td>\n",
       "      <td>84.666667</td>\n",
       "      <td>42.288557</td>\n",
       "    </tr>\n",
       "    <tr>\n",
       "      <th>4</th>\n",
       "      <td>Austria</td>\n",
       "      <td>2020</td>\n",
       "      <td>January</td>\n",
       "      <td>dropship</td>\n",
       "      <td>100023</td>\n",
       "      <td>1804</td>\n",
       "      <td>41</td>\n",
       "      <td>1483</td>\n",
       "      <td>568</td>\n",
       "      <td>44.000000</td>\n",
       "      <td>38.300742</td>\n",
       "    </tr>\n",
       "  </tbody>\n",
       "</table>\n",
       "</div>"
      ],
      "text/plain": [
       "  order_country  order_year order_month item_inventory_flag supplier_id  \\\n",
       "0       Austria        2020     January            dropship      100001   \n",
       "1       Austria        2020     January            dropship      100014   \n",
       "2       Austria        2020     January            dropship      100016   \n",
       "3       Austria        2020     January            dropship      100017   \n",
       "4       Austria        2020     January            dropship      100023   \n",
       "\n",
       "   actual_sales_value  actual_quantity_sold  simulated_sales_value  \\\n",
       "0                1595                    14                   1393   \n",
       "1                 150                     2                    125   \n",
       "2                 279                     4                    236   \n",
       "3                 254                     3                    201   \n",
       "4                1804                    41                   1483   \n",
       "\n",
       "   simulated_gross_margin  average_selling_price  gross_margin_rate_percentage  \n",
       "0                     641             113.928571                     46.015793  \n",
       "1                      63              75.000000                     50.400000  \n",
       "2                     139              69.750000                     58.898305  \n",
       "3                      85              84.666667                     42.288557  \n",
       "4                     568              44.000000                     38.300742  "
      ]
     },
     "execution_count": 27,
     "metadata": {},
     "output_type": "execute_result"
    }
   ],
   "source": [
    "sales.head()"
   ]
  },
  {
   "cell_type": "code",
   "execution_count": 28,
   "id": "9a58bc09",
   "metadata": {},
   "outputs": [
    {
     "name": "stdout",
     "output_type": "stream",
     "text": [
      "The Average Gross Margin Rate is  54.6 %\n"
     ]
    }
   ],
   "source": [
    "print('The Average Gross Margin Rate is ', \n",
    "      round(sales['simulated_gross_margin'].sum()/sales['simulated_sales_value'].sum()*100, 2), '%')"
   ]
  },
  {
   "cell_type": "markdown",
   "id": "0327d360",
   "metadata": {},
   "source": [
    "# Calculate 'simulated returns & cancellations'"
   ]
  },
  {
   "cell_type": "code",
   "execution_count": 29,
   "id": "bda260f0",
   "metadata": {},
   "outputs": [],
   "source": [
    "sales['simulated_returns_cancellations'] = sales['actual_sales_value'] - sales['simulated_sales_value']"
   ]
  },
  {
   "cell_type": "code",
   "execution_count": 30,
   "id": "fd471052",
   "metadata": {},
   "outputs": [
    {
     "data": {
      "text/html": [
       "<div>\n",
       "<style scoped>\n",
       "    .dataframe tbody tr th:only-of-type {\n",
       "        vertical-align: middle;\n",
       "    }\n",
       "\n",
       "    .dataframe tbody tr th {\n",
       "        vertical-align: top;\n",
       "    }\n",
       "\n",
       "    .dataframe thead th {\n",
       "        text-align: right;\n",
       "    }\n",
       "</style>\n",
       "<table border=\"1\" class=\"dataframe\">\n",
       "  <thead>\n",
       "    <tr style=\"text-align: right;\">\n",
       "      <th></th>\n",
       "      <th>order_country</th>\n",
       "      <th>order_year</th>\n",
       "      <th>order_month</th>\n",
       "      <th>item_inventory_flag</th>\n",
       "      <th>supplier_id</th>\n",
       "      <th>actual_sales_value</th>\n",
       "      <th>actual_quantity_sold</th>\n",
       "      <th>simulated_sales_value</th>\n",
       "      <th>simulated_gross_margin</th>\n",
       "      <th>average_selling_price</th>\n",
       "      <th>gross_margin_rate_percentage</th>\n",
       "      <th>simulated_returns_cancellations</th>\n",
       "    </tr>\n",
       "  </thead>\n",
       "  <tbody>\n",
       "    <tr>\n",
       "      <th>0</th>\n",
       "      <td>Austria</td>\n",
       "      <td>2020</td>\n",
       "      <td>January</td>\n",
       "      <td>dropship</td>\n",
       "      <td>100001</td>\n",
       "      <td>1595</td>\n",
       "      <td>14</td>\n",
       "      <td>1393</td>\n",
       "      <td>641</td>\n",
       "      <td>113.928571</td>\n",
       "      <td>46.015793</td>\n",
       "      <td>202</td>\n",
       "    </tr>\n",
       "    <tr>\n",
       "      <th>1</th>\n",
       "      <td>Austria</td>\n",
       "      <td>2020</td>\n",
       "      <td>January</td>\n",
       "      <td>dropship</td>\n",
       "      <td>100014</td>\n",
       "      <td>150</td>\n",
       "      <td>2</td>\n",
       "      <td>125</td>\n",
       "      <td>63</td>\n",
       "      <td>75.000000</td>\n",
       "      <td>50.400000</td>\n",
       "      <td>25</td>\n",
       "    </tr>\n",
       "    <tr>\n",
       "      <th>2</th>\n",
       "      <td>Austria</td>\n",
       "      <td>2020</td>\n",
       "      <td>January</td>\n",
       "      <td>dropship</td>\n",
       "      <td>100016</td>\n",
       "      <td>279</td>\n",
       "      <td>4</td>\n",
       "      <td>236</td>\n",
       "      <td>139</td>\n",
       "      <td>69.750000</td>\n",
       "      <td>58.898305</td>\n",
       "      <td>43</td>\n",
       "    </tr>\n",
       "    <tr>\n",
       "      <th>3</th>\n",
       "      <td>Austria</td>\n",
       "      <td>2020</td>\n",
       "      <td>January</td>\n",
       "      <td>dropship</td>\n",
       "      <td>100017</td>\n",
       "      <td>254</td>\n",
       "      <td>3</td>\n",
       "      <td>201</td>\n",
       "      <td>85</td>\n",
       "      <td>84.666667</td>\n",
       "      <td>42.288557</td>\n",
       "      <td>53</td>\n",
       "    </tr>\n",
       "    <tr>\n",
       "      <th>4</th>\n",
       "      <td>Austria</td>\n",
       "      <td>2020</td>\n",
       "      <td>January</td>\n",
       "      <td>dropship</td>\n",
       "      <td>100023</td>\n",
       "      <td>1804</td>\n",
       "      <td>41</td>\n",
       "      <td>1483</td>\n",
       "      <td>568</td>\n",
       "      <td>44.000000</td>\n",
       "      <td>38.300742</td>\n",
       "      <td>321</td>\n",
       "    </tr>\n",
       "  </tbody>\n",
       "</table>\n",
       "</div>"
      ],
      "text/plain": [
       "  order_country  order_year order_month item_inventory_flag supplier_id  \\\n",
       "0       Austria        2020     January            dropship      100001   \n",
       "1       Austria        2020     January            dropship      100014   \n",
       "2       Austria        2020     January            dropship      100016   \n",
       "3       Austria        2020     January            dropship      100017   \n",
       "4       Austria        2020     January            dropship      100023   \n",
       "\n",
       "   actual_sales_value  actual_quantity_sold  simulated_sales_value  \\\n",
       "0                1595                    14                   1393   \n",
       "1                 150                     2                    125   \n",
       "2                 279                     4                    236   \n",
       "3                 254                     3                    201   \n",
       "4                1804                    41                   1483   \n",
       "\n",
       "   simulated_gross_margin  average_selling_price  \\\n",
       "0                     641             113.928571   \n",
       "1                      63              75.000000   \n",
       "2                     139              69.750000   \n",
       "3                      85              84.666667   \n",
       "4                     568              44.000000   \n",
       "\n",
       "   gross_margin_rate_percentage  simulated_returns_cancellations  \n",
       "0                     46.015793                              202  \n",
       "1                     50.400000                               25  \n",
       "2                     58.898305                               43  \n",
       "3                     42.288557                               53  \n",
       "4                     38.300742                              321  "
      ]
     },
     "execution_count": 30,
     "metadata": {},
     "output_type": "execute_result"
    }
   ],
   "source": [
    "sales.head()"
   ]
  },
  {
   "cell_type": "code",
   "execution_count": 31,
   "id": "b0de67ee",
   "metadata": {},
   "outputs": [
    {
     "data": {
      "text/plain": [
       "May          6087\n",
       "April        6025\n",
       "June         5887\n",
       "March        5828\n",
       "February     5677\n",
       "January      5600\n",
       "July         2961\n",
       "August       1766\n",
       "September     900\n",
       "October       380\n",
       "November      230\n",
       "December      158\n",
       "Name: order_month, dtype: int64"
      ]
     },
     "execution_count": 31,
     "metadata": {},
     "output_type": "execute_result"
    }
   ],
   "source": [
    "sales['order_month'].value_counts()"
   ]
  },
  {
   "cell_type": "code",
   "execution_count": 32,
   "id": "67cc79db",
   "metadata": {},
   "outputs": [],
   "source": [
    "# Convert month strings to numbers\n",
    "order_month_number = []\n",
    "\n",
    "for months in sales['order_month']:\n",
    "    new_month = datetime.datetime.strptime(months, \"%B\").month\n",
    "    order_month_number.append(new_month)"
   ]
  },
  {
   "cell_type": "code",
   "execution_count": 33,
   "id": "c952e2ec",
   "metadata": {},
   "outputs": [],
   "source": [
    "sales['order_month_number'] = order_month_number"
   ]
  },
  {
   "cell_type": "code",
   "execution_count": 34,
   "id": "6d1b1a61",
   "metadata": {},
   "outputs": [
    {
     "data": {
      "text/plain": [
       "5     6087\n",
       "4     6025\n",
       "6     5887\n",
       "3     5828\n",
       "2     5677\n",
       "1     5600\n",
       "7     2961\n",
       "8     1766\n",
       "9      900\n",
       "10     380\n",
       "11     230\n",
       "12     158\n",
       "Name: order_month_number, dtype: int64"
      ]
     },
     "execution_count": 34,
     "metadata": {},
     "output_type": "execute_result"
    }
   ],
   "source": [
    "sales['order_month_number'].value_counts()"
   ]
  },
  {
   "cell_type": "markdown",
   "id": "7d143db5",
   "metadata": {},
   "source": [
    "# Look at sales over time"
   ]
  },
  {
   "cell_type": "code",
   "execution_count": 61,
   "id": "7659cc85",
   "metadata": {},
   "outputs": [
    {
     "name": "stderr",
     "output_type": "stream",
     "text": [
      "C:\\Users\\paul_\\anaconda3\\envs\\matrix\\lib\\site-packages\\ipykernel_launcher.py:2: FutureWarning: Indexing with multiple keys (implicitly converted to a tuple of keys) will be deprecated, use a list instead.\n",
      "  \n"
     ]
    },
    {
     "data": {
      "text/html": [
       "<div>\n",
       "<style scoped>\n",
       "    .dataframe tbody tr th:only-of-type {\n",
       "        vertical-align: middle;\n",
       "    }\n",
       "\n",
       "    .dataframe tbody tr th {\n",
       "        vertical-align: top;\n",
       "    }\n",
       "\n",
       "    .dataframe thead th {\n",
       "        text-align: right;\n",
       "    }\n",
       "</style>\n",
       "<table border=\"1\" class=\"dataframe\">\n",
       "  <thead>\n",
       "    <tr style=\"text-align: right;\">\n",
       "      <th></th>\n",
       "      <th></th>\n",
       "      <th>actual_sales_value</th>\n",
       "      <th>actual_quantity_sold</th>\n",
       "      <th>simulated_sales_value</th>\n",
       "      <th>simulated_gross_margin</th>\n",
       "    </tr>\n",
       "    <tr>\n",
       "      <th>order_year</th>\n",
       "      <th>order_month</th>\n",
       "      <th></th>\n",
       "      <th></th>\n",
       "      <th></th>\n",
       "      <th></th>\n",
       "    </tr>\n",
       "  </thead>\n",
       "  <tbody>\n",
       "    <tr>\n",
       "      <th rowspan=\"12\" valign=\"top\">2020</th>\n",
       "      <th>January</th>\n",
       "      <td>12294112</td>\n",
       "      <td>59562</td>\n",
       "      <td>10007285</td>\n",
       "      <td>5534815</td>\n",
       "    </tr>\n",
       "    <tr>\n",
       "      <th>February</th>\n",
       "      <td>10865090</td>\n",
       "      <td>53312</td>\n",
       "      <td>8837297</td>\n",
       "      <td>4964933</td>\n",
       "    </tr>\n",
       "    <tr>\n",
       "      <th>March</th>\n",
       "      <td>12539853</td>\n",
       "      <td>62937</td>\n",
       "      <td>10272922</td>\n",
       "      <td>5818857</td>\n",
       "    </tr>\n",
       "    <tr>\n",
       "      <th>April</th>\n",
       "      <td>15855620</td>\n",
       "      <td>79585</td>\n",
       "      <td>12915849</td>\n",
       "      <td>7192171</td>\n",
       "    </tr>\n",
       "    <tr>\n",
       "      <th>May</th>\n",
       "      <td>16359464</td>\n",
       "      <td>77287</td>\n",
       "      <td>13364005</td>\n",
       "      <td>7270696</td>\n",
       "    </tr>\n",
       "    <tr>\n",
       "      <th>June</th>\n",
       "      <td>12582580</td>\n",
       "      <td>58981</td>\n",
       "      <td>10280889</td>\n",
       "      <td>5618645</td>\n",
       "    </tr>\n",
       "    <tr>\n",
       "      <th>July</th>\n",
       "      <td>0</td>\n",
       "      <td>0</td>\n",
       "      <td>0</td>\n",
       "      <td>0</td>\n",
       "    </tr>\n",
       "    <tr>\n",
       "      <th>August</th>\n",
       "      <td>0</td>\n",
       "      <td>0</td>\n",
       "      <td>0</td>\n",
       "      <td>0</td>\n",
       "    </tr>\n",
       "    <tr>\n",
       "      <th>September</th>\n",
       "      <td>0</td>\n",
       "      <td>0</td>\n",
       "      <td>0</td>\n",
       "      <td>0</td>\n",
       "    </tr>\n",
       "    <tr>\n",
       "      <th>October</th>\n",
       "      <td>0</td>\n",
       "      <td>0</td>\n",
       "      <td>0</td>\n",
       "      <td>0</td>\n",
       "    </tr>\n",
       "    <tr>\n",
       "      <th>November</th>\n",
       "      <td>0</td>\n",
       "      <td>0</td>\n",
       "      <td>0</td>\n",
       "      <td>0</td>\n",
       "    </tr>\n",
       "    <tr>\n",
       "      <th>December</th>\n",
       "      <td>0</td>\n",
       "      <td>0</td>\n",
       "      <td>0</td>\n",
       "      <td>0</td>\n",
       "    </tr>\n",
       "    <tr>\n",
       "      <th rowspan=\"9\" valign=\"top\">2021</th>\n",
       "      <th>January</th>\n",
       "      <td>20607053</td>\n",
       "      <td>98852</td>\n",
       "      <td>16441546</td>\n",
       "      <td>8940913</td>\n",
       "    </tr>\n",
       "    <tr>\n",
       "      <th>February</th>\n",
       "      <td>19026408</td>\n",
       "      <td>87175</td>\n",
       "      <td>15193501</td>\n",
       "      <td>8290639</td>\n",
       "    </tr>\n",
       "    <tr>\n",
       "      <th>March</th>\n",
       "      <td>17497951</td>\n",
       "      <td>78574</td>\n",
       "      <td>14013073</td>\n",
       "      <td>7592355</td>\n",
       "    </tr>\n",
       "    <tr>\n",
       "      <th>April</th>\n",
       "      <td>16555724</td>\n",
       "      <td>75758</td>\n",
       "      <td>13355499</td>\n",
       "      <td>7181242</td>\n",
       "    </tr>\n",
       "    <tr>\n",
       "      <th>May</th>\n",
       "      <td>15982706</td>\n",
       "      <td>73473</td>\n",
       "      <td>12778791</td>\n",
       "      <td>6731642</td>\n",
       "    </tr>\n",
       "    <tr>\n",
       "      <th>June</th>\n",
       "      <td>10743540</td>\n",
       "      <td>51472</td>\n",
       "      <td>8726695</td>\n",
       "      <td>4681926</td>\n",
       "    </tr>\n",
       "    <tr>\n",
       "      <th>July</th>\n",
       "      <td>0</td>\n",
       "      <td>0</td>\n",
       "      <td>0</td>\n",
       "      <td>0</td>\n",
       "    </tr>\n",
       "    <tr>\n",
       "      <th>August</th>\n",
       "      <td>0</td>\n",
       "      <td>0</td>\n",
       "      <td>0</td>\n",
       "      <td>0</td>\n",
       "    </tr>\n",
       "    <tr>\n",
       "      <th>September</th>\n",
       "      <td>0</td>\n",
       "      <td>0</td>\n",
       "      <td>0</td>\n",
       "      <td>0</td>\n",
       "    </tr>\n",
       "  </tbody>\n",
       "</table>\n",
       "</div>"
      ],
      "text/plain": [
       "                        actual_sales_value  actual_quantity_sold  \\\n",
       "order_year order_month                                             \n",
       "2020       January                12294112                 59562   \n",
       "           February               10865090                 53312   \n",
       "           March                  12539853                 62937   \n",
       "           April                  15855620                 79585   \n",
       "           May                    16359464                 77287   \n",
       "           June                   12582580                 58981   \n",
       "           July                          0                     0   \n",
       "           August                        0                     0   \n",
       "           September                     0                     0   \n",
       "           October                       0                     0   \n",
       "           November                      0                     0   \n",
       "           December                      0                     0   \n",
       "2021       January                20607053                 98852   \n",
       "           February               19026408                 87175   \n",
       "           March                  17497951                 78574   \n",
       "           April                  16555724                 75758   \n",
       "           May                    15982706                 73473   \n",
       "           June                   10743540                 51472   \n",
       "           July                          0                     0   \n",
       "           August                        0                     0   \n",
       "           September                     0                     0   \n",
       "\n",
       "                        simulated_sales_value  simulated_gross_margin  \n",
       "order_year order_month                                                 \n",
       "2020       January                   10007285                 5534815  \n",
       "           February                   8837297                 4964933  \n",
       "           March                     10272922                 5818857  \n",
       "           April                     12915849                 7192171  \n",
       "           May                       13364005                 7270696  \n",
       "           June                      10280889                 5618645  \n",
       "           July                             0                       0  \n",
       "           August                           0                       0  \n",
       "           September                        0                       0  \n",
       "           October                          0                       0  \n",
       "           November                         0                       0  \n",
       "           December                         0                       0  \n",
       "2021       January                   16441546                 8940913  \n",
       "           February                  15193501                 8290639  \n",
       "           March                     14013073                 7592355  \n",
       "           April                     13355499                 7181242  \n",
       "           May                       12778791                 6731642  \n",
       "           June                       8726695                 4681926  \n",
       "           July                             0                       0  \n",
       "           August                           0                       0  \n",
       "           September                        0                       0  "
      ]
     },
     "execution_count": 61,
     "metadata": {},
     "output_type": "execute_result"
    }
   ],
   "source": [
    "sales.groupby(by=['order_year', 'order_month'], sort=False)[\n",
    "    'actual_sales_value', 'actual_quantity_sold', 'simulated_sales_value', 'simulated_gross_margin'].sum()"
   ]
  },
  {
   "cell_type": "markdown",
   "id": "9c8e9ee1",
   "metadata": {},
   "source": [
    "### All months show an increase in sales year on year, except for May & June. "
   ]
  },
  {
   "cell_type": "markdown",
   "id": "79b54bc6",
   "metadata": {},
   "source": [
    "### It's very strange that there is no sales data whatsoever for July-December 2020. This is going to make it difficult to prepare a sales forecast for the full year 2021."
   ]
  },
  {
   "cell_type": "markdown",
   "id": "5952e466",
   "metadata": {},
   "source": [
    "# Look at sales by country"
   ]
  },
  {
   "cell_type": "code",
   "execution_count": 57,
   "id": "56ea9e27",
   "metadata": {},
   "outputs": [
    {
     "name": "stderr",
     "output_type": "stream",
     "text": [
      "C:\\Users\\paul_\\anaconda3\\envs\\matrix\\lib\\site-packages\\ipykernel_launcher.py:2: FutureWarning: Indexing with multiple keys (implicitly converted to a tuple of keys) will be deprecated, use a list instead.\n",
      "  \n"
     ]
    },
    {
     "data": {
      "text/html": [
       "<div>\n",
       "<style scoped>\n",
       "    .dataframe tbody tr th:only-of-type {\n",
       "        vertical-align: middle;\n",
       "    }\n",
       "\n",
       "    .dataframe tbody tr th {\n",
       "        vertical-align: top;\n",
       "    }\n",
       "\n",
       "    .dataframe thead th {\n",
       "        text-align: right;\n",
       "    }\n",
       "</style>\n",
       "<table border=\"1\" class=\"dataframe\">\n",
       "  <thead>\n",
       "    <tr style=\"text-align: right;\">\n",
       "      <th></th>\n",
       "      <th></th>\n",
       "      <th>actual_sales_value</th>\n",
       "      <th>actual_quantity_sold</th>\n",
       "      <th>simulated_sales_value</th>\n",
       "      <th>simulated_gross_margin</th>\n",
       "    </tr>\n",
       "    <tr>\n",
       "      <th>order_year</th>\n",
       "      <th>order_country</th>\n",
       "      <th></th>\n",
       "      <th></th>\n",
       "      <th></th>\n",
       "      <th></th>\n",
       "    </tr>\n",
       "  </thead>\n",
       "  <tbody>\n",
       "    <tr>\n",
       "      <th>2020</th>\n",
       "      <th>Austria</th>\n",
       "      <td>13838775</td>\n",
       "      <td>87489</td>\n",
       "      <td>11643472</td>\n",
       "      <td>5660989</td>\n",
       "    </tr>\n",
       "    <tr>\n",
       "      <th>2021</th>\n",
       "      <th>Austria</th>\n",
       "      <td>18730572</td>\n",
       "      <td>105556</td>\n",
       "      <td>15157539</td>\n",
       "      <td>7336815</td>\n",
       "    </tr>\n",
       "    <tr>\n",
       "      <th>2020</th>\n",
       "      <th>Belgium</th>\n",
       "      <td>5958320</td>\n",
       "      <td>37269</td>\n",
       "      <td>4750085</td>\n",
       "      <td>2338235</td>\n",
       "    </tr>\n",
       "    <tr>\n",
       "      <th>2021</th>\n",
       "      <th>Belgium</th>\n",
       "      <td>5765725</td>\n",
       "      <td>34412</td>\n",
       "      <td>4656409</td>\n",
       "      <td>2249494</td>\n",
       "    </tr>\n",
       "    <tr>\n",
       "      <th>2020</th>\n",
       "      <th>France</th>\n",
       "      <td>13683115</td>\n",
       "      <td>71483</td>\n",
       "      <td>10756348</td>\n",
       "      <td>5241410</td>\n",
       "    </tr>\n",
       "    <tr>\n",
       "      <th>2021</th>\n",
       "      <th>France</th>\n",
       "      <td>21658247</td>\n",
       "      <td>102684</td>\n",
       "      <td>16806594</td>\n",
       "      <td>8353367</td>\n",
       "    </tr>\n",
       "    <tr>\n",
       "      <th>2020</th>\n",
       "      <th>Italy</th>\n",
       "      <td>162464</td>\n",
       "      <td>2031</td>\n",
       "      <td>139091</td>\n",
       "      <td>63249</td>\n",
       "    </tr>\n",
       "    <tr>\n",
       "      <th>2021</th>\n",
       "      <th>Italy</th>\n",
       "      <td>1526133</td>\n",
       "      <td>7909</td>\n",
       "      <td>1152632</td>\n",
       "      <td>558015</td>\n",
       "    </tr>\n",
       "    <tr>\n",
       "      <th>2020</th>\n",
       "      <th>Netherlands</th>\n",
       "      <td>9692378</td>\n",
       "      <td>60322</td>\n",
       "      <td>7861092</td>\n",
       "      <td>3839598</td>\n",
       "    </tr>\n",
       "    <tr>\n",
       "      <th>2021</th>\n",
       "      <th>Netherlands</th>\n",
       "      <td>11836419</td>\n",
       "      <td>69783</td>\n",
       "      <td>8721539</td>\n",
       "      <td>4222197</td>\n",
       "    </tr>\n",
       "    <tr>\n",
       "      <th>2020</th>\n",
       "      <th>Switzerland</th>\n",
       "      <td>37161667</td>\n",
       "      <td>133070</td>\n",
       "      <td>30528159</td>\n",
       "      <td>19256636</td>\n",
       "    </tr>\n",
       "    <tr>\n",
       "      <th>2021</th>\n",
       "      <th>Switzerland</th>\n",
       "      <td>40896286</td>\n",
       "      <td>144960</td>\n",
       "      <td>34014392</td>\n",
       "      <td>20698829</td>\n",
       "    </tr>\n",
       "  </tbody>\n",
       "</table>\n",
       "</div>"
      ],
      "text/plain": [
       "                          actual_sales_value  actual_quantity_sold  \\\n",
       "order_year order_country                                             \n",
       "2020       Austria                  13838775                 87489   \n",
       "2021       Austria                  18730572                105556   \n",
       "2020       Belgium                   5958320                 37269   \n",
       "2021       Belgium                   5765725                 34412   \n",
       "2020       France                   13683115                 71483   \n",
       "2021       France                   21658247                102684   \n",
       "2020       Italy                      162464                  2031   \n",
       "2021       Italy                     1526133                  7909   \n",
       "2020       Netherlands               9692378                 60322   \n",
       "2021       Netherlands              11836419                 69783   \n",
       "2020       Switzerland              37161667                133070   \n",
       "2021       Switzerland              40896286                144960   \n",
       "\n",
       "                          simulated_sales_value  simulated_gross_margin  \n",
       "order_year order_country                                                 \n",
       "2020       Austria                     11643472                 5660989  \n",
       "2021       Austria                     15157539                 7336815  \n",
       "2020       Belgium                      4750085                 2338235  \n",
       "2021       Belgium                      4656409                 2249494  \n",
       "2020       France                      10756348                 5241410  \n",
       "2021       France                      16806594                 8353367  \n",
       "2020       Italy                         139091                   63249  \n",
       "2021       Italy                        1152632                  558015  \n",
       "2020       Netherlands                  7861092                 3839598  \n",
       "2021       Netherlands                  8721539                 4222197  \n",
       "2020       Switzerland                 30528159                19256636  \n",
       "2021       Switzerland                 34014392                20698829  "
      ]
     },
     "execution_count": 57,
     "metadata": {},
     "output_type": "execute_result"
    }
   ],
   "source": [
    "sales.groupby(by=['order_year', 'order_country'], sort=False)[\n",
    "    'actual_sales_value', 'actual_quantity_sold', 'simulated_sales_value', 'simulated_gross_margin'].sum()"
   ]
  },
  {
   "cell_type": "markdown",
   "id": "009183e4",
   "metadata": {},
   "source": [
    "### All countries show an increase in sales year on year, except for Belgium"
   ]
  },
  {
   "cell_type": "markdown",
   "id": "f0ccc1af",
   "metadata": {},
   "source": [
    "# Look at sales by inventory flag"
   ]
  },
  {
   "cell_type": "code",
   "execution_count": 82,
   "id": "01bdf3c2",
   "metadata": {},
   "outputs": [
    {
     "name": "stderr",
     "output_type": "stream",
     "text": [
      "C:\\Users\\paul_\\anaconda3\\envs\\matrix\\lib\\site-packages\\ipykernel_launcher.py:2: FutureWarning: Indexing with multiple keys (implicitly converted to a tuple of keys) will be deprecated, use a list instead.\n",
      "  \n"
     ]
    }
   ],
   "source": [
    "inventory_flag_group = sales.groupby(by=['item_inventory_flag', 'order_year'], sort=True)[\n",
    "    'actual_sales_value', 'actual_quantity_sold', 'simulated_sales_value', 'simulated_gross_margin'].sum()"
   ]
  },
  {
   "cell_type": "code",
   "execution_count": 83,
   "id": "9e1849c7",
   "metadata": {},
   "outputs": [
    {
     "data": {
      "text/html": [
       "<div>\n",
       "<style scoped>\n",
       "    .dataframe tbody tr th:only-of-type {\n",
       "        vertical-align: middle;\n",
       "    }\n",
       "\n",
       "    .dataframe tbody tr th {\n",
       "        vertical-align: top;\n",
       "    }\n",
       "\n",
       "    .dataframe thead th {\n",
       "        text-align: right;\n",
       "    }\n",
       "</style>\n",
       "<table border=\"1\" class=\"dataframe\">\n",
       "  <thead>\n",
       "    <tr style=\"text-align: right;\">\n",
       "      <th></th>\n",
       "      <th></th>\n",
       "      <th>actual_sales_value</th>\n",
       "      <th>actual_quantity_sold</th>\n",
       "      <th>simulated_sales_value</th>\n",
       "      <th>simulated_gross_margin</th>\n",
       "    </tr>\n",
       "    <tr>\n",
       "      <th>item_inventory_flag</th>\n",
       "      <th>order_year</th>\n",
       "      <th></th>\n",
       "      <th></th>\n",
       "      <th></th>\n",
       "      <th></th>\n",
       "    </tr>\n",
       "  </thead>\n",
       "  <tbody>\n",
       "    <tr>\n",
       "      <th rowspan=\"2\" valign=\"top\">UNKNOWN</th>\n",
       "      <th>2020</th>\n",
       "      <td>446916</td>\n",
       "      <td>4364</td>\n",
       "      <td>299439</td>\n",
       "      <td>299439</td>\n",
       "    </tr>\n",
       "    <tr>\n",
       "      <th>2021</th>\n",
       "      <td>328393</td>\n",
       "      <td>2778</td>\n",
       "      <td>253263</td>\n",
       "      <td>253263</td>\n",
       "    </tr>\n",
       "    <tr>\n",
       "      <th rowspan=\"2\" valign=\"top\">dropship</th>\n",
       "      <th>2020</th>\n",
       "      <td>6537851</td>\n",
       "      <td>92501</td>\n",
       "      <td>5240008</td>\n",
       "      <td>2055284</td>\n",
       "    </tr>\n",
       "    <tr>\n",
       "      <th>2021</th>\n",
       "      <td>9631612</td>\n",
       "      <td>113339</td>\n",
       "      <td>7459051</td>\n",
       "      <td>3183109</td>\n",
       "    </tr>\n",
       "    <tr>\n",
       "      <th rowspan=\"2\" valign=\"top\">former</th>\n",
       "      <th>2020</th>\n",
       "      <td>11167758</td>\n",
       "      <td>64719</td>\n",
       "      <td>8093591</td>\n",
       "      <td>4355019</td>\n",
       "    </tr>\n",
       "    <tr>\n",
       "      <th>2021</th>\n",
       "      <td>4227543</td>\n",
       "      <td>21765</td>\n",
       "      <td>3358256</td>\n",
       "      <td>1763175</td>\n",
       "    </tr>\n",
       "    <tr>\n",
       "      <th rowspan=\"2\" valign=\"top\">laso</th>\n",
       "      <th>2020</th>\n",
       "      <td>43143756</td>\n",
       "      <td>184416</td>\n",
       "      <td>36841437</td>\n",
       "      <td>21439488</td>\n",
       "    </tr>\n",
       "    <tr>\n",
       "      <th>2021</th>\n",
       "      <td>58395270</td>\n",
       "      <td>257874</td>\n",
       "      <td>47949811</td>\n",
       "      <td>26963114</td>\n",
       "    </tr>\n",
       "    <tr>\n",
       "      <th rowspan=\"2\" valign=\"top\">mto</th>\n",
       "      <th>2020</th>\n",
       "      <td>7724098</td>\n",
       "      <td>17568</td>\n",
       "      <td>6140187</td>\n",
       "      <td>3225174</td>\n",
       "    </tr>\n",
       "    <tr>\n",
       "      <th>2021</th>\n",
       "      <td>11644358</td>\n",
       "      <td>27589</td>\n",
       "      <td>8940094</td>\n",
       "      <td>4561153</td>\n",
       "    </tr>\n",
       "    <tr>\n",
       "      <th rowspan=\"2\" valign=\"top\">realshsmov</th>\n",
       "      <th>2020</th>\n",
       "      <td>5195775</td>\n",
       "      <td>8950</td>\n",
       "      <td>4084516</td>\n",
       "      <td>2278503</td>\n",
       "    </tr>\n",
       "    <tr>\n",
       "      <th>2021</th>\n",
       "      <td>5691074</td>\n",
       "      <td>10255</td>\n",
       "      <td>4336941</td>\n",
       "      <td>2357397</td>\n",
       "    </tr>\n",
       "    <tr>\n",
       "      <th rowspan=\"2\" valign=\"top\">riskshs</th>\n",
       "      <th>2020</th>\n",
       "      <td>4107466</td>\n",
       "      <td>13887</td>\n",
       "      <td>3344769</td>\n",
       "      <td>1805959</td>\n",
       "    </tr>\n",
       "    <tr>\n",
       "      <th>2021</th>\n",
       "      <td>6174882</td>\n",
       "      <td>21265</td>\n",
       "      <td>4960078</td>\n",
       "      <td>2602047</td>\n",
       "    </tr>\n",
       "    <tr>\n",
       "      <th rowspan=\"2\" valign=\"top\">tto</th>\n",
       "      <th>2020</th>\n",
       "      <td>625708</td>\n",
       "      <td>2278</td>\n",
       "      <td>486978</td>\n",
       "      <td>264905</td>\n",
       "    </tr>\n",
       "    <tr>\n",
       "      <th>2021</th>\n",
       "      <td>1746049</td>\n",
       "      <td>5678</td>\n",
       "      <td>1405862</td>\n",
       "      <td>771062</td>\n",
       "    </tr>\n",
       "    <tr>\n",
       "      <th rowspan=\"2\" valign=\"top\">warehouse-undefined</th>\n",
       "      <th>2020</th>\n",
       "      <td>189278</td>\n",
       "      <td>468</td>\n",
       "      <td>139398</td>\n",
       "      <td>65280</td>\n",
       "    </tr>\n",
       "    <tr>\n",
       "      <th>2021</th>\n",
       "      <td>350409</td>\n",
       "      <td>500</td>\n",
       "      <td>250785</td>\n",
       "      <td>121822</td>\n",
       "    </tr>\n",
       "    <tr>\n",
       "      <th rowspan=\"2\" valign=\"top\">zset</th>\n",
       "      <th>2020</th>\n",
       "      <td>1254683</td>\n",
       "      <td>2212</td>\n",
       "      <td>933484</td>\n",
       "      <td>569958</td>\n",
       "    </tr>\n",
       "    <tr>\n",
       "      <th>2021</th>\n",
       "      <td>2157169</td>\n",
       "      <td>4014</td>\n",
       "      <td>1547819</td>\n",
       "      <td>820397</td>\n",
       "    </tr>\n",
       "    <tr>\n",
       "      <th rowspan=\"2\" valign=\"top\">zset_former</th>\n",
       "      <th>2020</th>\n",
       "      <td>103430</td>\n",
       "      <td>301</td>\n",
       "      <td>74440</td>\n",
       "      <td>41108</td>\n",
       "    </tr>\n",
       "    <tr>\n",
       "      <th>2021</th>\n",
       "      <td>66623</td>\n",
       "      <td>247</td>\n",
       "      <td>47145</td>\n",
       "      <td>22178</td>\n",
       "    </tr>\n",
       "  </tbody>\n",
       "</table>\n",
       "</div>"
      ],
      "text/plain": [
       "                                actual_sales_value  actual_quantity_sold  \\\n",
       "item_inventory_flag order_year                                             \n",
       "UNKNOWN             2020                    446916                  4364   \n",
       "                    2021                    328393                  2778   \n",
       "dropship            2020                   6537851                 92501   \n",
       "                    2021                   9631612                113339   \n",
       "former              2020                  11167758                 64719   \n",
       "                    2021                   4227543                 21765   \n",
       "laso                2020                  43143756                184416   \n",
       "                    2021                  58395270                257874   \n",
       "mto                 2020                   7724098                 17568   \n",
       "                    2021                  11644358                 27589   \n",
       "realshsmov          2020                   5195775                  8950   \n",
       "                    2021                   5691074                 10255   \n",
       "riskshs             2020                   4107466                 13887   \n",
       "                    2021                   6174882                 21265   \n",
       "tto                 2020                    625708                  2278   \n",
       "                    2021                   1746049                  5678   \n",
       "warehouse-undefined 2020                    189278                   468   \n",
       "                    2021                    350409                   500   \n",
       "zset                2020                   1254683                  2212   \n",
       "                    2021                   2157169                  4014   \n",
       "zset_former         2020                    103430                   301   \n",
       "                    2021                     66623                   247   \n",
       "\n",
       "                                simulated_sales_value  simulated_gross_margin  \n",
       "item_inventory_flag order_year                                                 \n",
       "UNKNOWN             2020                       299439                  299439  \n",
       "                    2021                       253263                  253263  \n",
       "dropship            2020                      5240008                 2055284  \n",
       "                    2021                      7459051                 3183109  \n",
       "former              2020                      8093591                 4355019  \n",
       "                    2021                      3358256                 1763175  \n",
       "laso                2020                     36841437                21439488  \n",
       "                    2021                     47949811                26963114  \n",
       "mto                 2020                      6140187                 3225174  \n",
       "                    2021                      8940094                 4561153  \n",
       "realshsmov          2020                      4084516                 2278503  \n",
       "                    2021                      4336941                 2357397  \n",
       "riskshs             2020                      3344769                 1805959  \n",
       "                    2021                      4960078                 2602047  \n",
       "tto                 2020                       486978                  264905  \n",
       "                    2021                      1405862                  771062  \n",
       "warehouse-undefined 2020                       139398                   65280  \n",
       "                    2021                       250785                  121822  \n",
       "zset                2020                       933484                  569958  \n",
       "                    2021                      1547819                  820397  \n",
       "zset_former         2020                        74440                   41108  \n",
       "                    2021                        47145                   22178  "
      ]
     },
     "execution_count": 83,
     "metadata": {},
     "output_type": "execute_result"
    }
   ],
   "source": [
    "inventory_flag_group"
   ]
  },
  {
   "cell_type": "code",
   "execution_count": null,
   "id": "44857aec",
   "metadata": {},
   "outputs": [],
   "source": []
  },
  {
   "cell_type": "code",
   "execution_count": null,
   "id": "e0ca0fbe",
   "metadata": {},
   "outputs": [],
   "source": []
  },
  {
   "cell_type": "code",
   "execution_count": null,
   "id": "801fcc78",
   "metadata": {},
   "outputs": [],
   "source": []
  },
  {
   "cell_type": "code",
   "execution_count": null,
   "id": "a522e915",
   "metadata": {},
   "outputs": [],
   "source": []
  },
  {
   "cell_type": "code",
   "execution_count": 35,
   "id": "8ed1c6a2",
   "metadata": {},
   "outputs": [
    {
     "data": {
      "text/plain": [
       "\"# Export to CSV files\\nsuppliers = suppliers.to_csv('suppliers.csv', index=False)\\nsales = sales.to_csv('sales.csv', index=False)\""
      ]
     },
     "execution_count": 35,
     "metadata": {},
     "output_type": "execute_result"
    }
   ],
   "source": [
    "'''# Export to CSV files\n",
    "suppliers = suppliers.to_csv('suppliers.csv', index=False)\n",
    "sales = sales.to_csv('sales.csv', index=False)''''''"
   ]
  },
  {
   "cell_type": "code",
   "execution_count": null,
   "id": "62c590fe",
   "metadata": {},
   "outputs": [],
   "source": []
  }
 ],
 "metadata": {
  "kernelspec": {
   "display_name": "Python 3",
   "language": "python",
   "name": "python3"
  },
  "language_info": {
   "codemirror_mode": {
    "name": "ipython",
    "version": 3
   },
   "file_extension": ".py",
   "mimetype": "text/x-python",
   "name": "python",
   "nbconvert_exporter": "python",
   "pygments_lexer": "ipython3",
   "version": "3.7.10"
  }
 },
 "nbformat": 4,
 "nbformat_minor": 5
}
